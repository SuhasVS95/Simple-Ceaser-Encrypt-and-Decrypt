{
 "cells": [
  {
   "cell_type": "markdown",
   "metadata": {},
   "source": [
    "## <center>Simple Ceaser Encrypt and Decrypt</center>\n"
   ]
  },
  {
   "cell_type": "markdown",
   "metadata": {},
   "source": [
    "### Problem Statement:\n",
    "\n",
    "Create and encrypter in python based on the ceaser cipher. It is a substitution cipher where each character of the original text is shifted a certain number characters in the alphabet. Write a function that would require 2 arguments – the input text to be encrypted and a key. For eg: Given the input text ‘hello’ and the key 3, the resulting encryted text would be ‘khoor’. Here you can see that every character in the string hello is shifted by 3 characters. ‘h’ has shifted to ‘k’, ‘e’ has shifted to ‘h’ and so on. If a key of 5 were used, the resulting string would be ‘mjqqt’. This function should be capable of ignoring any characters which are not alphabets. The character ‘z’ entered b\n",
    "y the user for a key of 3 would result in ‘c’.\n",
    "\n",
    "Usage:<br>\n",
    "**encrypt(‘hello world!’, 3)**<br>\n",
    "**‘khoor zruog!’**\n",
    "\n",
    "Similarly create decrypter which can decode the encryted text when provided the input text and key\n",
    "\n",
    "Usage:<br>\n",
    "**decrypt(‘khoor zruog!’, 3)**<br>\n",
    "**‘hello world!’**\n",
    "\n",
    "For the sake of simplicity you can assume that input solely consists of lowercase alphabets, spaces and punctuation symbols. Numbers in the input text would also be ignored similar to symbols."
   ]
  },
  {
   "cell_type": "markdown",
   "metadata": {},
   "source": [
    "# Encrypt"
   ]
  },
  {
   "cell_type": "code",
   "execution_count": 1,
   "metadata": {},
   "outputs": [
    {
     "name": "stdout",
     "output_type": "stream",
     "text": [
      "Enter the text:hello world!\n",
      "Enter the encryption key:3\n"
     ]
    },
    {
     "data": {
      "text/plain": [
       "'khoor zruog!'"
      ]
     },
     "execution_count": 1,
     "metadata": {},
     "output_type": "execute_result"
    }
   ],
   "source": [
    "def encrypt(text,key):\n",
    "    b=\"\"\n",
    "    for i in text:\n",
    "        if i.isalpha()==True:\n",
    "            c=ord(i)\n",
    "            d=c+key\n",
    "            if d<=(122):\n",
    "                b=b+chr(d) \n",
    "            elif d>122:\n",
    "                a=122-c\n",
    "                x=key-a\n",
    "                b=b+chr(96+x)\n",
    "        else:\n",
    "            b=b+i\n",
    "    return b\n",
    "    \n",
    "encrypt(input(\"Enter the text:\"),int(input(\"Enter the encryption key:\")))"
   ]
  },
  {
   "cell_type": "markdown",
   "metadata": {},
   "source": [
    "# Decrypt"
   ]
  },
  {
   "cell_type": "code",
   "execution_count": 2,
   "metadata": {},
   "outputs": [
    {
     "name": "stdout",
     "output_type": "stream",
     "text": [
      "Enter the text:khoor zruog!\n",
      "Enter the decryption key:3\n"
     ]
    },
    {
     "data": {
      "text/plain": [
       "'hello world!'"
      ]
     },
     "execution_count": 2,
     "metadata": {},
     "output_type": "execute_result"
    }
   ],
   "source": [
    "def decrypt(text,key):\n",
    "    b=\"\"\n",
    "    for i in text:\n",
    "        if i.isalpha()==True:\n",
    "            c=ord(i)\n",
    "            d=c-key\n",
    "            if d<=97: \n",
    "                j=c-97\n",
    "                g=key-j\n",
    "                t=123-g\n",
    "                b=b+chr(t)\n",
    "            elif d<=(122):               \n",
    "                    b=b+chr(d)           \n",
    "        else:\n",
    "            b=b+i\n",
    "    return b\n",
    "    \n",
    "decrypt(input(\"Enter the text:\"),int(input(\"Enter the decryption key:\"))) "
   ]
  }
 ],
 "metadata": {
  "kernelspec": {
   "display_name": "Python 3",
   "language": "python",
   "name": "python3"
  },
  "language_info": {
   "codemirror_mode": {
    "name": "ipython",
    "version": 3
   },
   "file_extension": ".py",
   "mimetype": "text/x-python",
   "name": "python",
   "nbconvert_exporter": "python",
   "pygments_lexer": "ipython3",
   "version": "3.7.6"
  }
 },
 "nbformat": 4,
 "nbformat_minor": 2
}
